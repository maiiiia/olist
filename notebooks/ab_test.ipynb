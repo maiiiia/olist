{
 "cells": [
  {
   "cell_type": "markdown",
   "id": "2b2b1718",
   "metadata": {},
   "source": [
    "$\\textbf{Контекст:}$ сейчас март 2018. Команда Olist разработала новый улучшенный алгоритм рекомендации товаров.\n",
    "\n",
    "$\\textbf{Задача:}$ провести А/Б тестирование, чтобы выяснить, стоит ли запускать новый алгоритм. В качестве целевой метрики выберем ARPU - average revenue per user."
   ]
  },
  {
   "cell_type": "markdown",
   "id": "03a6bec5",
   "metadata": {},
   "source": [
    "Импортируем необходимые библиотеки: "
   ]
  },
  {
   "cell_type": "code",
   "execution_count": 2,
   "id": "d9db64f3",
   "metadata": {},
   "outputs": [],
   "source": [
    "import pandas as pd\n",
    "import numpy as np\n",
    "import matplotlib.pyplot as plt\n",
    "from scipy import stats\n",
    "from statsmodels.stats.power import tt_ind_solve_power\n",
    "from statsmodels.stats.weightstats import DescrStatsW, CompareMeans\n",
    "from sqlalchemy import create_engine"
   ]
  },
  {
   "cell_type": "markdown",
   "id": "98f986dd",
   "metadata": {},
   "source": [
    "Подключимся к нашей базе данных, и получим датафрейм с номером покупателя и суммой заказа. Заказы рассматриваем за годовой период начиная с февраля 2017 года. Эти данные нам нужны чтобы оценить протестировать наш алгоритм сплита пользователей, и оценить MDE и для АА тестирования."
   ]
  },
  {
   "cell_type": "code",
   "execution_count": null,
   "id": "ce57a871",
   "metadata": {},
   "outputs": [
    {
     "data": {
      "application/vnd.microsoft.datawrangler.viewer.v0+json": {
       "columns": [
        {
         "name": "index",
         "rawType": "int64",
         "type": "integer"
        },
        {
         "name": "revenue",
         "rawType": "float64",
         "type": "float"
        },
        {
         "name": "customer_id",
         "rawType": "object",
         "type": "string"
        }
       ],
       "ref": "144f375a-eea0-4fe7-ac65-46ccb0482411",
       "rows": [
        [
         "0",
         "19.9",
         "8ab97904e6daea8866dbdbc4fb7aad2c"
        ],
        [
         "1",
         "9.5",
         "72ae281627a6102d9b3718528b420f8a"
        ],
        [
         "2",
         "109.9",
         "3a874b4d4c4b6543206ff5d89287f0c3"
        ],
        [
         "3",
         "30.1",
         "761df82feda9778854c6dafdaeb567e4"
        ],
        [
         "4",
         "84.9",
         "d9ef95f98d8da3b492bb8c0447910498"
        ]
       ],
       "shape": {
        "columns": 2,
        "rows": 5
       }
      },
      "text/html": [
       "<div>\n",
       "<style scoped>\n",
       "    .dataframe tbody tr th:only-of-type {\n",
       "        vertical-align: middle;\n",
       "    }\n",
       "\n",
       "    .dataframe tbody tr th {\n",
       "        vertical-align: top;\n",
       "    }\n",
       "\n",
       "    .dataframe thead th {\n",
       "        text-align: right;\n",
       "    }\n",
       "</style>\n",
       "<table border=\"1\" class=\"dataframe\">\n",
       "  <thead>\n",
       "    <tr style=\"text-align: right;\">\n",
       "      <th></th>\n",
       "      <th>revenue</th>\n",
       "      <th>customer_id</th>\n",
       "    </tr>\n",
       "  </thead>\n",
       "  <tbody>\n",
       "    <tr>\n",
       "      <th>0</th>\n",
       "      <td>19.9</td>\n",
       "      <td>8ab97904e6daea8866dbdbc4fb7aad2c</td>\n",
       "    </tr>\n",
       "    <tr>\n",
       "      <th>1</th>\n",
       "      <td>9.5</td>\n",
       "      <td>72ae281627a6102d9b3718528b420f8a</td>\n",
       "    </tr>\n",
       "    <tr>\n",
       "      <th>2</th>\n",
       "      <td>109.9</td>\n",
       "      <td>3a874b4d4c4b6543206ff5d89287f0c3</td>\n",
       "    </tr>\n",
       "    <tr>\n",
       "      <th>3</th>\n",
       "      <td>30.1</td>\n",
       "      <td>761df82feda9778854c6dafdaeb567e4</td>\n",
       "    </tr>\n",
       "    <tr>\n",
       "      <th>4</th>\n",
       "      <td>84.9</td>\n",
       "      <td>d9ef95f98d8da3b492bb8c0447910498</td>\n",
       "    </tr>\n",
       "  </tbody>\n",
       "</table>\n",
       "</div>"
      ],
      "text/plain": [
       "   revenue                       customer_id\n",
       "0     19.9  8ab97904e6daea8866dbdbc4fb7aad2c\n",
       "1      9.5  72ae281627a6102d9b3718528b420f8a\n",
       "2    109.9  3a874b4d4c4b6543206ff5d89287f0c3\n",
       "3     30.1  761df82feda9778854c6dafdaeb567e4\n",
       "4     84.9  d9ef95f98d8da3b492bb8c0447910498"
      ]
     },
     "execution_count": 20,
     "metadata": {},
     "output_type": "execute_result"
    }
   ],
   "source": [
    "username = \"postgres\"\n",
    "host = \"localhost\"\n",
    "port = \"5432\"\n",
    "database = \"olist_db\"\n",
    "password = \"my_password\"\n",
    "\n",
    "engine = create_engine(f\"postgresql+psycopg2://{username}:{password}@{host}:{port}/{database}\")\n",
    "\n",
    "query = \"\"\"SELECT price as revenue, customer_id\n",
    "FROM order_items oi LEFT JOIN orders o USING (order_id)\n",
    "WHERE o.order_status = 'delivered' AND DATE_TRUNC('month', o.order_purchase_timestamp)::DATE = '2018-02-01';\n",
    "\"\"\"\n",
    "\n",
    "df = pd.read_sql_query(query, engine)\n",
    "df.head()\n"
   ]
  },
  {
   "cell_type": "markdown",
   "id": "e227b4e2",
   "metadata": {},
   "source": [
    "Для удобства создадим новый вспомогательный датасет."
   ]
  },
  {
   "cell_type": "code",
   "execution_count": 21,
   "id": "3d8422fe",
   "metadata": {},
   "outputs": [
    {
     "data": {
      "application/vnd.microsoft.datawrangler.viewer.v0+json": {
       "columns": [
        {
         "name": "index",
         "rawType": "int64",
         "type": "integer"
        },
        {
         "name": "customer_id",
         "rawType": "object",
         "type": "string"
        },
        {
         "name": "revenue",
         "rawType": "float64",
         "type": "float"
        }
       ],
       "ref": "e851ea69-9b8d-4a69-bb27-82a0b66c4761",
       "rows": [
        [
         "0",
         "00066ccbe787a588c52bd5ff404590e3",
         "199.6"
        ],
        [
         "1",
         "001450ebb4a77efb3d68be5f7887cb1e",
         "37.64"
        ],
        [
         "2",
         "0029cdf064769cabdf3186b54d068c99",
         "459.99"
        ],
        [
         "3",
         "00380c010de38d578d02117f6d0b88e7",
         "49.0"
        ],
        [
         "4",
         "003cbe6a43560a8b6fd2c07531257c2d",
         "13.65"
        ]
       ],
       "shape": {
        "columns": 2,
        "rows": 5
       }
      },
      "text/html": [
       "<div>\n",
       "<style scoped>\n",
       "    .dataframe tbody tr th:only-of-type {\n",
       "        vertical-align: middle;\n",
       "    }\n",
       "\n",
       "    .dataframe tbody tr th {\n",
       "        vertical-align: top;\n",
       "    }\n",
       "\n",
       "    .dataframe thead th {\n",
       "        text-align: right;\n",
       "    }\n",
       "</style>\n",
       "<table border=\"1\" class=\"dataframe\">\n",
       "  <thead>\n",
       "    <tr style=\"text-align: right;\">\n",
       "      <th></th>\n",
       "      <th>customer_id</th>\n",
       "      <th>revenue</th>\n",
       "    </tr>\n",
       "  </thead>\n",
       "  <tbody>\n",
       "    <tr>\n",
       "      <th>0</th>\n",
       "      <td>00066ccbe787a588c52bd5ff404590e3</td>\n",
       "      <td>199.60</td>\n",
       "    </tr>\n",
       "    <tr>\n",
       "      <th>1</th>\n",
       "      <td>001450ebb4a77efb3d68be5f7887cb1e</td>\n",
       "      <td>37.64</td>\n",
       "    </tr>\n",
       "    <tr>\n",
       "      <th>2</th>\n",
       "      <td>0029cdf064769cabdf3186b54d068c99</td>\n",
       "      <td>459.99</td>\n",
       "    </tr>\n",
       "    <tr>\n",
       "      <th>3</th>\n",
       "      <td>00380c010de38d578d02117f6d0b88e7</td>\n",
       "      <td>49.00</td>\n",
       "    </tr>\n",
       "    <tr>\n",
       "      <th>4</th>\n",
       "      <td>003cbe6a43560a8b6fd2c07531257c2d</td>\n",
       "      <td>13.65</td>\n",
       "    </tr>\n",
       "  </tbody>\n",
       "</table>\n",
       "</div>"
      ],
      "text/plain": [
       "                        customer_id  revenue\n",
       "0  00066ccbe787a588c52bd5ff404590e3   199.60\n",
       "1  001450ebb4a77efb3d68be5f7887cb1e    37.64\n",
       "2  0029cdf064769cabdf3186b54d068c99   459.99\n",
       "3  00380c010de38d578d02117f6d0b88e7    49.00\n",
       "4  003cbe6a43560a8b6fd2c07531257c2d    13.65"
      ]
     },
     "execution_count": 21,
     "metadata": {},
     "output_type": "execute_result"
    }
   ],
   "source": [
    "user_rev = df.groupby('customer_id')['revenue'].sum().reset_index()\n",
    "user_rev.head()"
   ]
  },
  {
   "cell_type": "markdown",
   "id": "8367a001",
   "metadata": {},
   "source": [
    "Разделим пользователей на 2 равные группы случайно. "
   ]
  },
  {
   "cell_type": "code",
   "execution_count": 22,
   "id": "5cf9778f",
   "metadata": {},
   "outputs": [
    {
     "data": {
      "application/vnd.microsoft.datawrangler.viewer.v0+json": {
       "columns": [
        {
         "name": "group",
         "rawType": "object",
         "type": "string"
        },
        {
         "name": "customer_id",
         "rawType": "int64",
         "type": "integer"
        },
        {
         "name": "revenue",
         "rawType": "float64",
         "type": "float"
        }
       ],
       "ref": "e3846032-b5b0-4c45-9ec6-4d2ec7ebd9ae",
       "rows": [
        [
         "A",
         "3270",
         "124.99167278287463"
        ],
        [
         "B",
         "3285",
         "127.158100456621"
        ]
       ],
       "shape": {
        "columns": 2,
        "rows": 2
       }
      },
      "text/html": [
       "<div>\n",
       "<style scoped>\n",
       "    .dataframe tbody tr th:only-of-type {\n",
       "        vertical-align: middle;\n",
       "    }\n",
       "\n",
       "    .dataframe tbody tr th {\n",
       "        vertical-align: top;\n",
       "    }\n",
       "\n",
       "    .dataframe thead th {\n",
       "        text-align: right;\n",
       "    }\n",
       "</style>\n",
       "<table border=\"1\" class=\"dataframe\">\n",
       "  <thead>\n",
       "    <tr style=\"text-align: right;\">\n",
       "      <th></th>\n",
       "      <th>customer_id</th>\n",
       "      <th>revenue</th>\n",
       "    </tr>\n",
       "    <tr>\n",
       "      <th>group</th>\n",
       "      <th></th>\n",
       "      <th></th>\n",
       "    </tr>\n",
       "  </thead>\n",
       "  <tbody>\n",
       "    <tr>\n",
       "      <th>A</th>\n",
       "      <td>3270</td>\n",
       "      <td>124.991673</td>\n",
       "    </tr>\n",
       "    <tr>\n",
       "      <th>B</th>\n",
       "      <td>3285</td>\n",
       "      <td>127.158100</td>\n",
       "    </tr>\n",
       "  </tbody>\n",
       "</table>\n",
       "</div>"
      ],
      "text/plain": [
       "       customer_id     revenue\n",
       "group                         \n",
       "A             3270  124.991673\n",
       "B             3285  127.158100"
      ]
     },
     "execution_count": 22,
     "metadata": {},
     "output_type": "execute_result"
    }
   ],
   "source": [
    "np.random.seed(42)  \n",
    "\n",
    "user_rev['group'] = np.where(np.random.rand(len(user_rev)) > 0.5, 'A', 'B')\n",
    "\n",
    "user_rev.groupby('group').agg({'customer_id':'count', 'revenue':'mean'})\n"
   ]
  },
  {
   "cell_type": "markdown",
   "id": "12b64a07",
   "metadata": {},
   "source": [
    "Как и ожидалось, SRM не обнаружено (используем критерий хи-квадрат)."
   ]
  },
  {
   "cell_type": "code",
   "execution_count": 23,
   "id": "71c6eece",
   "metadata": {},
   "outputs": [
    {
     "data": {
      "text/plain": [
       "Power_divergenceResult(statistic=np.float64(0.034324942791762014), pvalue=np.float64(0.8530173309245255))"
      ]
     },
     "execution_count": 23,
     "metadata": {},
     "output_type": "execute_result"
    }
   ],
   "source": [
    "obs = user_rev.group.value_counts().values\n",
    "stats.chisquare(obs)\n"
   ]
  },
  {
   "cell_type": "markdown",
   "id": "e40ee4ab",
   "metadata": {},
   "source": [
    "Выборки большие, так что нормальность данных не играет роли при использовании t-test. На всякий случай используем Манна-Уитни. Как и ожидалось, различия в ARPU между группами не найдено."
   ]
  },
  {
   "cell_type": "code",
   "execution_count": 24,
   "id": "63a2d3d8",
   "metadata": {},
   "outputs": [
    {
     "name": "stdout",
     "output_type": "stream",
     "text": [
      "TtestResult(statistic=np.float64(-0.5357771433998493), pvalue=np.float64(0.5921310984696642), df=np.float64(6434.701963593819))\n",
      "MannwhitneyuResult(statistic=np.float64(5339523.5), pvalue=np.float64(0.681397986237573))\n"
     ]
    }
   ],
   "source": [
    "A = user_rev.loc[user_rev['group']=='A', 'revenue']\n",
    "B = user_rev.loc[user_rev['group']=='B', 'revenue']\n",
    "\n",
    "print(stats.ttest_ind(A, B, equal_var=False))\n",
    "print(stats.mannwhitneyu(A, B, alternative='two-sided'))\n",
    "\n"
   ]
  },
  {
   "cell_type": "markdown",
   "id": "f0ce8945",
   "metadata": {},
   "source": [
    "Возьмем уровень значимости 0.05, мощность 0.8, а размер выборки, дисперсию и среднее оценим по уже имеющимся данным. Сосчитаем effect size и MDE. Можно запускать тестирование и без этого, но проделаем на всякий случай."
   ]
  },
  {
   "cell_type": "code",
   "execution_count": 42,
   "id": "1c538227",
   "metadata": {},
   "outputs": [
    {
     "name": "stdout",
     "output_type": "stream",
     "text": [
      "MDE = 0.312\n",
      "Это значит, что чтобы t-test замечал разницу в ARPU с данной мощностью, уровнем значимости, дисперсией, средним и размером выборки, нужно, чтобы она изменилась хотя бы на 39.331\n"
     ]
    }
   ],
   "source": [
    "arpu = user_rev['revenue'].mean()  \n",
    "\n",
    "sample_size = np.floor(len(user_rev.customer_id)/(12*2))\n",
    "mu = user_rev['revenue'].mean()\n",
    "sigma = user_rev['revenue'].std()\n",
    "power = 0.8     \n",
    "alpha=0.05\n",
    "\n",
    "effect_size = tt_ind_solve_power(nobs1=sample_size, alpha=alpha, power=power, alternative='two-sided')\n",
    "mde = effect_size * sigma / mu\n",
    "print(f\"MDE = {mde:.3f}\")\n",
    "print(f\"Это значит, что чтобы t-test замечал разницу в ARPU с данной мощностью, уровнем значимости, дисперсией, средним и размером выборки, нужно, чтобы она изменилась хотя бы на {mde*arpu:.3f}\")\n",
    "\n"
   ]
  },
  {
   "cell_type": "markdown",
   "id": "fa1b6a18",
   "metadata": {},
   "source": [
    "Предположим, мы запустили процесс АБ тестирования на месяц. Для этого искусственно увеличим выручку в группе B на 10%."
   ]
  },
  {
   "cell_type": "code",
   "execution_count": 26,
   "id": "1442beb5",
   "metadata": {},
   "outputs": [],
   "source": [
    "query = \"\"\"SELECT price as revenue, customer_id\n",
    "FROM order_items oi LEFT JOIN orders o USING (order_id)\n",
    "WHERE o.order_status = 'delivered' AND DATE_TRUNC('month', o.order_purchase_timestamp)::DATE = '2018-03-01';\n",
    "\"\"\"\n",
    "\n",
    "df_after = pd.read_sql_query(query, engine)\n",
    "user_rev_after = df_after.groupby('customer_id')['revenue'].sum().reset_index()\n",
    "\n",
    "np.random.seed(42)  \n",
    "\n",
    "user_rev_after['group'] = np.where(np.random.rand(len(user_rev_after)) > 0.5, 'A', 'B')\n",
    "\n",
    "user_rev_after.groupby('group').agg({'customer_id':'count', 'revenue':'mean'})\n",
    "\n",
    "user_rev_after.loc[user_rev_after['group']=='B', 'revenue'] *= 1.1\n",
    "\n"
   ]
  },
  {
   "cell_type": "markdown",
   "id": "6c1f4be4",
   "metadata": {},
   "source": [
    "Аналогично, SRM не обнаружено."
   ]
  },
  {
   "cell_type": "code",
   "execution_count": 27,
   "id": "21f01bae",
   "metadata": {},
   "outputs": [
    {
     "data": {
      "text/plain": [
       "Power_divergenceResult(statistic=np.float64(0.31543624161073824), pvalue=np.float64(0.5743632920067822))"
      ]
     },
     "execution_count": 27,
     "metadata": {},
     "output_type": "execute_result"
    }
   ],
   "source": [
    "obs = user_rev_after.group.value_counts().values\n",
    "stats.chisquare(obs)\n"
   ]
  },
  {
   "cell_type": "markdown",
   "id": "46895fe7",
   "metadata": {},
   "source": [
    "Как мы можем заметить, изменения в ARPU статистически значимы."
   ]
  },
  {
   "cell_type": "code",
   "execution_count": 28,
   "id": "9d17d65e",
   "metadata": {},
   "outputs": [
    {
     "name": "stdout",
     "output_type": "stream",
     "text": [
      "TtestResult(statistic=np.float64(-2.9055485113117876), pvalue=np.float64(0.003677755425943748), df=np.float64(6899.3204233983015))\n",
      "MannwhitneyuResult(statistic=np.float64(5688216.5), pvalue=np.float64(1.767455260633805e-07))\n"
     ]
    }
   ],
   "source": [
    "A = user_rev_after.loc[user_rev_after['group']=='A', 'revenue']\n",
    "B = user_rev_after.loc[user_rev_after['group']=='B', 'revenue']\n",
    "\n",
    "print(stats.ttest_ind(A, B, equal_var=False))\n",
    "print(stats.mannwhitneyu(A, B, alternative='two-sided'))"
   ]
  },
  {
   "cell_type": "markdown",
   "id": "1f6bd5e2",
   "metadata": {},
   "source": [
    "Относительный прирост:"
   ]
  },
  {
   "cell_type": "code",
   "execution_count": 35,
   "id": "f7649b2e",
   "metadata": {},
   "outputs": [
    {
     "data": {
      "text/plain": [
       "np.float64(0.10067809975351978)"
      ]
     },
     "execution_count": 35,
     "metadata": {},
     "output_type": "execute_result"
    }
   ],
   "source": [
    "(B.mean() - A.mean())/A.mean()"
   ]
  },
  {
   "cell_type": "markdown",
   "id": "1a55bf5f",
   "metadata": {},
   "source": [
    "Примерно 10%."
   ]
  },
  {
   "cell_type": "markdown",
   "id": "f3860d4d",
   "metadata": {},
   "source": [
    "Построим доверительный интервал для разности средних:"
   ]
  },
  {
   "cell_type": "code",
   "execution_count": null,
   "id": "19fd2195",
   "metadata": {},
   "outputs": [
    {
     "data": {
      "text/plain": [
       "(np.float64(4.457441078559084), np.float64(22.945763843809758))"
      ]
     },
     "execution_count": 29,
     "metadata": {},
     "output_type": "execute_result"
    }
   ],
   "source": [
    "cm = CompareMeans(DescrStatsW(B), DescrStatsW(A))\n",
    "cm.tconfint_diff(usevar='unequal', alpha=0.05)  "
   ]
  },
  {
   "cell_type": "markdown",
   "id": "9ecd6e50",
   "metadata": {},
   "source": [
    "Вердикт: раскатываем фичу."
   ]
  }
 ],
 "metadata": {
  "kernelspec": {
   "display_name": "Python 3",
   "language": "python",
   "name": "python3"
  },
  "language_info": {
   "codemirror_mode": {
    "name": "ipython",
    "version": 3
   },
   "file_extension": ".py",
   "mimetype": "text/x-python",
   "name": "python",
   "nbconvert_exporter": "python",
   "pygments_lexer": "ipython3",
   "version": "3.12.6"
  }
 },
 "nbformat": 4,
 "nbformat_minor": 5
}
